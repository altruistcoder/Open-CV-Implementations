{
 "cells": [
  {
   "cell_type": "markdown",
   "metadata": {},
   "source": [
    "# Drawing different types of Figures on an Image"
   ]
  },
  {
   "cell_type": "code",
   "execution_count": 1,
   "metadata": {},
   "outputs": [],
   "source": [
    "import cv2\n",
    "import numpy as np"
   ]
  },
  {
   "cell_type": "markdown",
   "metadata": {},
   "source": [
    "## Drawing Line"
   ]
  },
  {
   "cell_type": "code",
   "execution_count": 2,
   "metadata": {},
   "outputs": [],
   "source": [
    "canvas1 = np.zeros((300, 300, 3), dtype=\"uint8\")\n",
    "cv2.imshow(\"Canvas 1\", canvas1)\n",
    "\n",
    "color1 = (255, 0, 0)\n",
    "cv2.line(canvas1, (0, 0), (300, 300), color1)\n",
    "cv2.imshow(\"Line1\", canvas1)\n",
    "\n",
    "color2 = (0, 255, 0)\n",
    "cv2.line(canvas1, (300, 0), (0, 300), color2, 5)\n",
    "cv2.imshow(\"Line2\", canvas1)\n",
    "\n",
    "cv2.waitKey(0)\n",
    "cv2.destroyAllWindows()"
   ]
  },
  {
   "cell_type": "markdown",
   "metadata": {},
   "source": [
    "## Drawing Rectangle"
   ]
  },
  {
   "cell_type": "code",
   "execution_count": 3,
   "metadata": {},
   "outputs": [],
   "source": [
    "canvas2 = np.zeros((300, 300, 3), dtype=\"uint8\")\n",
    "cv2.imshow(\"Canvas 2\", canvas2)\n",
    "\n",
    "color1 = (120, 200, 160)\n",
    "cv2.rectangle(canvas2, (10, 10), (60, 60), color1)\n",
    "cv2.imshow(\"Rectangle 1\", canvas2)\n",
    "\n",
    "color2 = (200, 200, 200)\n",
    "cv2.rectangle(canvas2, (210, 210), (250, 250), color2, 7)\n",
    "cv2.imshow(\"Rectangle 2\", canvas2)\n",
    "\n",
    "color3 = (255, 255, 255)\n",
    "cv2.rectangle(canvas2, (100, 100), (200, 200), color3, -1) # Value '-1' for thickness is used to fill \n",
    "                                                           # the rectangle with color\n",
    "cv2.imshow(\"Color Filled Rectangle\", canvas2)\n",
    "\n",
    "cv2.waitKey(0)\n",
    "cv2.destroyAllWindows()"
   ]
  },
  {
   "cell_type": "markdown",
   "metadata": {},
   "source": [
    "## Drawing Circle"
   ]
  },
  {
   "cell_type": "code",
   "execution_count": 4,
   "metadata": {},
   "outputs": [],
   "source": [
    "canvas3 = np.zeros((300, 300, 3), dtype=\"uint8\")\n",
    "cv2.imshow(\"Canvas 3\", canvas3)\n",
    "\n",
    "color1 = (120, 200, 160)\n",
    "center1 = (canvas3.shape[1]//2, canvas3.shape[0]//2)\n",
    "cv2.circle(canvas3, center1, 20, color1)\n",
    "cv2.imshow(\"Circle 1\", canvas3)\n",
    "\n",
    "color2 = (200, 100, 100)\n",
    "center2 = (250, 250)\n",
    "cv2.circle(canvas3, center2, 40, color2)\n",
    "cv2.imshow(\"Circle 2\", canvas3)\n",
    "\n",
    "color3 = (255, 255, 255)\n",
    "center3 = (50, 50)\n",
    "cv2.circle(canvas3, center3, 30, color3, -1) # Value '-1' for thickness is used to fill \n",
    "                                                           # the rectangle with color\n",
    "cv2.imshow(\"Circle 3\", canvas3) \n",
    "\n",
    "\n",
    "cv2.waitKey(0)\n",
    "cv2.destroyAllWindows()"
   ]
  },
  {
   "cell_type": "markdown",
   "metadata": {},
   "source": [
    "## Concentric Circles"
   ]
  },
  {
   "cell_type": "code",
   "execution_count": 5,
   "metadata": {},
   "outputs": [],
   "source": [
    "canvas4 = np.zeros((300, 300, 3), dtype=\"uint8\")\n",
    "cv2.imshow(\"Canvas 4\", canvas4)\n",
    "\n",
    "for r in range(0, 175, 25):\n",
    "    cv2.circle(canvas4, (150, 150), r, (255, 0, 0))\n",
    "\n",
    "cv2.imshow(\"Concentric Circles\", canvas4)\n",
    "cv2.waitKey(0)\n",
    "cv2.destroyAllWindows()"
   ]
  },
  {
   "cell_type": "code",
   "execution_count": null,
   "metadata": {},
   "outputs": [],
   "source": []
  },
  {
   "cell_type": "code",
   "execution_count": null,
   "metadata": {},
   "outputs": [],
   "source": []
  },
  {
   "cell_type": "code",
   "execution_count": null,
   "metadata": {},
   "outputs": [],
   "source": []
  },
  {
   "cell_type": "code",
   "execution_count": null,
   "metadata": {},
   "outputs": [],
   "source": []
  }
 ],
 "metadata": {
  "kernelspec": {
   "display_name": "Python 3",
   "language": "python",
   "name": "python3"
  },
  "language_info": {
   "codemirror_mode": {
    "name": "ipython",
    "version": 3
   },
   "file_extension": ".py",
   "mimetype": "text/x-python",
   "name": "python",
   "nbconvert_exporter": "python",
   "pygments_lexer": "ipython3",
   "version": "3.6.5"
  }
 },
 "nbformat": 4,
 "nbformat_minor": 2
}
