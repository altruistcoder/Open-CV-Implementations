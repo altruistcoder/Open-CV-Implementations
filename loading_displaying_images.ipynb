{
 "cells": [
  {
   "cell_type": "markdown",
   "metadata": {},
   "source": [
    "# Loading and Displaying Images Using OpenCV"
   ]
  },
  {
   "cell_type": "code",
   "execution_count": 1,
   "metadata": {},
   "outputs": [],
   "source": [
    "import cv2"
   ]
  },
  {
   "cell_type": "code",
   "execution_count": 18,
   "metadata": {},
   "outputs": [
    {
     "name": "stdout",
     "output_type": "stream",
     "text": [
      "Height: 1365 pixels\n",
      "Width: 2048 pixels\n",
      "Channels: 3 pixels\n",
      "Code of Key pressed to destroy the window: 122\n"
     ]
    }
   ],
   "source": [
    "image = cv2.imread(\"sample_image.jpg\")\n",
    "cv2.imshow(\"Image\", image)\n",
    "\n",
    "print(\"Height: {} pixels\".format(image.shape[0]))\n",
    "print(\"Width: {} pixels\".format(image.shape[1]))\n",
    "print(\"Channels: {} pixels\".format(image.shape[2]))\n",
    "\n",
    "a = cv2.waitKey(0) # waitKey() function returns the ASCII Code of the key pressed to destroy the window.\n",
    "print(\"Code of Key pressed to destroy the window:\", a)\n",
    "cv2.destroyAllWindows()"
   ]
  },
  {
   "cell_type": "code",
   "execution_count": null,
   "metadata": {},
   "outputs": [],
   "source": []
  },
  {
   "cell_type": "code",
   "execution_count": null,
   "metadata": {},
   "outputs": [],
   "source": []
  }
 ],
 "metadata": {
  "kernelspec": {
   "display_name": "Python 3",
   "language": "python",
   "name": "python3"
  },
  "language_info": {
   "codemirror_mode": {
    "name": "ipython",
    "version": 3
   },
   "file_extension": ".py",
   "mimetype": "text/x-python",
   "name": "python",
   "nbconvert_exporter": "python",
   "pygments_lexer": "ipython3",
   "version": "3.6.5"
  }
 },
 "nbformat": 4,
 "nbformat_minor": 2
}
