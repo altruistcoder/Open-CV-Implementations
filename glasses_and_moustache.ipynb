{
 "cells": [
  {
   "cell_type": "markdown",
   "metadata": {},
   "source": [
    "# Putting Glasses and Moustache in Images using OpenCV"
   ]
  },
  {
   "cell_type": "code",
   "execution_count": 1,
   "metadata": {},
   "outputs": [],
   "source": [
    "import numpy as np\n",
    "import cv2\n",
    "from utils import MyVideoConf, image_resize"
   ]
  },
  {
   "cell_type": "code",
   "execution_count": 2,
   "metadata": {},
   "outputs": [],
   "source": [
    "cap = cv2.VideoCapture(0)\n",
    "\n",
    "save_path           = 'saved-media/glasses_and_stash.mp4'\n",
    "frames_per_seconds  = 24\n",
    "config              = MyVideoConf(cap, filepath=save_path, res='720p')\n",
    "out                 = cv2.VideoWriter(save_path, config.video_type, frames_per_seconds, config.dims)\n",
    "face_cascade        = cv2.CascadeClassifier('src/cascades/data/haarcascade_frontalface_default.xml')\n",
    "eyes_cascade        = cv2.CascadeClassifier('src/cascades/third-party/frontalEyes35x16.xml')\n",
    "nose_cascade        = cv2.CascadeClassifier('src/cascades/third-party/Nose18x15.xml')\n",
    "glasses             = cv2.imread(\"src/images/fun/glasses.png\", -1)\n",
    "mustache            = cv2.imread('src/images/fun/mustache.png',-1)\n",
    "\n",
    "\n",
    "while(True):\n",
    "    ret, frame = cap.read()\n",
    "    gray            = cv2.cvtColor(frame, cv2.COLOR_BGR2GRAY)\n",
    "    faces           = face_cascade.detectMultiScale(gray, scaleFactor=1.5, minNeighbors=5)\n",
    "\n",
    "    frame = cv2.cvtColor(frame, cv2.COLOR_BGR2BGRA)\n",
    "\n",
    "    for (x, y, w, h) in faces:\n",
    "        roi_gray    = gray[y:y+h, x:x+h]\n",
    "        roi_color   = frame[y:y+h, x:x+h]\n",
    "        cv2.rectangle(frame, (x, y), (x + w, y + h), (255, 255, 255), 3)\n",
    "\n",
    "        eyes = eyes_cascade.detectMultiScale(roi_gray, scaleFactor=1.5, minNeighbors=5)\n",
    "        for (ex, ey, ew, eh) in eyes:\n",
    "            cv2.rectangle(roi_color, (ex, ey), (ex + ew, ey + eh), (0, 255, 0), 3)\n",
    "            roi_eyes = roi_gray[ey: ey + eh, ex: ex + ew]\n",
    "            glasses2 = image_resize(glasses.copy(), width=ew)\n",
    "\n",
    "            gw, gh, gc = glasses2.shape\n",
    "            for i in range(0, gw):\n",
    "                for j in range(0, gh):\n",
    "                    #print(glasses[i, j]) #RGBA\n",
    "                    if glasses2[i, j][3] != 0: # alpha 0\n",
    "                        roi_color[ey + i, ex + j] = glasses2[i, j]\n",
    "\n",
    "\n",
    "        nose = nose_cascade.detectMultiScale(roi_gray, scaleFactor=1.5, minNeighbors=5)\n",
    "        for (nx, ny, nw, nh) in nose:\n",
    "            cv2.rectangle(roi_color, (nx, ny), (nx + nw, ny + nh), (255, 0, 0), 3)\n",
    "            roi_nose = roi_gray[ny: ny + nh, nx: nx + nw]\n",
    "            mustache2 = image_resize(mustache.copy(), width=nw)\n",
    "\n",
    "            mw, mh, mc = mustache2.shape\n",
    "            for i in range(0, mw):\n",
    "                for j in range(0, mh):\n",
    "                    #print(glasses[i, j]) #RGBA\n",
    "                    if mustache2[i, j][3] != 0: # alpha 0\n",
    "                        roi_color[ny + int(nh/2.0) + i, nx + j] = mustache2[i, j]\n",
    "\n",
    "    # Display the resulting frame\n",
    "    frame = cv2.cvtColor(frame, cv2.COLOR_BGRA2BGR)\n",
    "    out.write(frame)\n",
    "    cv2.imshow('frame',frame)\n",
    "    if cv2.waitKey(20) & 0xFF == ord('q'):\n",
    "        break\n",
    "\n",
    "# When everything done, release the capture\n",
    "cap.release()\n",
    "out.release()\n",
    "cv2.destroyAllWindows()"
   ]
  },
  {
   "cell_type": "code",
   "execution_count": null,
   "metadata": {},
   "outputs": [],
   "source": []
  },
  {
   "cell_type": "code",
   "execution_count": null,
   "metadata": {},
   "outputs": [],
   "source": []
  },
  {
   "cell_type": "code",
   "execution_count": null,
   "metadata": {},
   "outputs": [],
   "source": []
  },
  {
   "cell_type": "code",
   "execution_count": null,
   "metadata": {},
   "outputs": [],
   "source": []
  }
 ],
 "metadata": {
  "kernelspec": {
   "display_name": "Python 3",
   "language": "python",
   "name": "python3"
  },
  "language_info": {
   "codemirror_mode": {
    "name": "ipython",
    "version": 3
   },
   "file_extension": ".py",
   "mimetype": "text/x-python",
   "name": "python",
   "nbconvert_exporter": "python",
   "pygments_lexer": "ipython3",
   "version": "3.5.2"
  }
 },
 "nbformat": 4,
 "nbformat_minor": 2
}
