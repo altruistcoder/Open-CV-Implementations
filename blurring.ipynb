{
 "cells": [
  {
   "cell_type": "markdown",
   "metadata": {},
   "source": [
    "# Blurring an Image"
   ]
  },
  {
   "cell_type": "code",
   "execution_count": 1,
   "metadata": {},
   "outputs": [],
   "source": [
    "import numpy as np\n",
    "import matplotlib.pyplot as plt\n",
    "import cv2"
   ]
  },
  {
   "cell_type": "code",
   "execution_count": 2,
   "metadata": {},
   "outputs": [],
   "source": [
    "image = cv2.imread('sample_image.jpg')\n",
    "cv2.imshow(\"Original\", image)\n",
    "cv2.waitKey(0)\n",
    "cv2.destroyAllWindows()"
   ]
  },
  {
   "cell_type": "markdown",
   "metadata": {},
   "source": [
    "## Average Blurring"
   ]
  },
  {
   "cell_type": "code",
   "execution_count": 3,
   "metadata": {},
   "outputs": [],
   "source": [
    "# Here we stack three images with different blurring intensity \n",
    "# Note: More the kernel size, the more blurred the image will be.\n",
    "average_blurred = np.hstack([cv2.blur(image, (3, 3)), \n",
    "                             cv2.blur(image, (5, 5)), \n",
    "                             cv2.blur(image, (9, 9))])\n",
    "\n",
    "cv2.imshow(\"Average Blurred\", average_blurred)\n",
    "cv2.waitKey(0)\n",
    "cv2.destroyAllWindows()"
   ]
  },
  {
   "cell_type": "markdown",
   "metadata": {},
   "source": [
    "## Gaussian Blurring"
   ]
  },
  {
   "cell_type": "code",
   "execution_count": 4,
   "metadata": {},
   "outputs": [],
   "source": [
    "gaussian_blurred = np.hstack([cv2.GaussianBlur(image, (3, 3), 0), \n",
    "                              cv2.GaussianBlur(image, (5, 5), 0), \n",
    "                              cv2.GaussianBlur(image, (7, 7), 0)])\n",
    "\n",
    "cv2.imshow(\"Gaussian Blurred\", gaussian_blurred)\n",
    "cv2.waitKey(0)\n",
    "cv2.destroyAllWindows()"
   ]
  },
  {
   "cell_type": "markdown",
   "metadata": {},
   "source": [
    "## Median Blurring"
   ]
  },
  {
   "cell_type": "code",
   "execution_count": 5,
   "metadata": {},
   "outputs": [],
   "source": [
    "median_blurred = np.hstack([cv2.medianBlur(image, 3), \n",
    "                              cv2.medianBlur(image, 5), \n",
    "                              cv2.medianBlur(image, 7)])\n",
    "\n",
    "cv2.imshow(\"Median Blurred\", median_blurred)\n",
    "cv2.waitKey(0)\n",
    "cv2.destroyAllWindows()"
   ]
  },
  {
   "cell_type": "markdown",
   "metadata": {},
   "source": [
    "## Bilateral Blurring"
   ]
  },
  {
   "cell_type": "code",
   "execution_count": 6,
   "metadata": {},
   "outputs": [],
   "source": [
    "bilateral_blurred = np.hstack([cv2.bilateralFilter(image, 5, 25, 30), \n",
    "                              cv2.bilateralFilter(image, 7, 34, 40), \n",
    "                              cv2.bilateralFilter(image, 9, 40, 50)])\n",
    "\n",
    "cv2.imshow(\"Bilaterally Blurred\", bilateral_blurred)\n",
    "cv2.waitKey(0)\n",
    "cv2.destroyAllWindows()"
   ]
  }
 ],
 "metadata": {
  "kernelspec": {
   "display_name": "Python 3",
   "language": "python",
   "name": "python3"
  },
  "language_info": {
   "codemirror_mode": {
    "name": "ipython",
    "version": 3
   },
   "file_extension": ".py",
   "mimetype": "text/x-python",
   "name": "python",
   "nbconvert_exporter": "python",
   "pygments_lexer": "ipython3",
   "version": "3.5.2"
  }
 },
 "nbformat": 4,
 "nbformat_minor": 2
}
