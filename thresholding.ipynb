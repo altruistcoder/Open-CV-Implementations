{
 "cells": [
  {
   "cell_type": "markdown",
   "metadata": {},
   "source": [
    "# Thresholding"
   ]
  },
  {
   "cell_type": "code",
   "execution_count": 1,
   "metadata": {},
   "outputs": [],
   "source": [
    "import numpy as np\n",
    "import cv2"
   ]
  },
  {
   "cell_type": "code",
   "execution_count": 2,
   "metadata": {},
   "outputs": [],
   "source": [
    "image = cv2.imread('sample_image.jpg')\n",
    "cv2.imshow(\"Original\", image)\n",
    "cv2.waitKey(0)\n",
    "cv2.destroyAllWindows()"
   ]
  },
  {
   "cell_type": "code",
   "execution_count": 3,
   "metadata": {},
   "outputs": [],
   "source": [
    "gray_image = cv2.cvtColor(image, cv2.COLOR_BGR2GRAY)\n",
    "cv2.imshow(\"Grayscaled Image\", gray_image)\n",
    "cv2.waitKey(0)\n",
    "cv2.destroyAllWindows()"
   ]
  },
  {
   "cell_type": "code",
   "execution_count": 4,
   "metadata": {},
   "outputs": [],
   "source": [
    "# Blurring the image helps us in removing the high frequency edges.\n",
    "# This improves the performance of our thresholding.\n",
    "blurred_image = cv2.GaussianBlur(gray_image, (5, 5), 0)\n",
    "cv2.imshow(\"Blurred Image\", blurred_image)\n",
    "cv2.waitKey(0)\n",
    "cv2.destroyAllWindows()"
   ]
  },
  {
   "cell_type": "markdown",
   "metadata": {},
   "source": [
    "## Simple & Simple Inverse Thresholding"
   ]
  },
  {
   "cell_type": "code",
   "execution_count": 5,
   "metadata": {},
   "outputs": [
    {
     "name": "stdout",
     "output_type": "stream",
     "text": [
      "Threshold Image: 140.0\n",
      "Inverse Thresholded Image: 140.0\n"
     ]
    }
   ],
   "source": [
    "# Simple Thresholding:\n",
    "(T1, thresholded_image) = cv2.threshold(blurred_image, 140, 255, cv2.THRESH_BINARY)\n",
    "print(\"Threshold Image:\", T1)\n",
    "cv2.imshow(\"Thresholded Image\", thresholded_image)\n",
    "\n",
    "# Simple Inverse Thresholding:\n",
    "(T2, inverse_thresholded_image) = cv2.threshold(blurred_image, 140, 255, cv2.THRESH_BINARY_INV)\n",
    "print(\"Inverse Thresholded Image:\", T2)\n",
    "cv2.imshow(\"Inverse Thresholded Image\", inverse_thresholded_image)\n",
    "\n",
    "cv2.waitKey(0)\n",
    "cv2.destroyAllWindows()"
   ]
  },
  {
   "cell_type": "markdown",
   "metadata": {},
   "source": [
    "# Adaptive Thresholding"
   ]
  },
  {
   "cell_type": "code",
   "execution_count": 7,
   "metadata": {},
   "outputs": [],
   "source": [
    "# Adaptive Thresholding with Adaptive Thresholding Mean Method:\n",
    "adaptive_thresholded1 = cv2.adaptiveThreshold(blurred_image, 255, cv2.ADAPTIVE_THRESH_MEAN_C, cv2.THRESH_BINARY, 15, 3)\n",
    "cv2.imshow(\"Thresholded Image 1\", adaptive_thresholded1)\n",
    "\n",
    "# Adaptive Thresholding with Adaptive Thresholding Gaussian Method:\n",
    "adaptive_thresholded2 = cv2.adaptiveThreshold(blurred_image, 255, cv2.ADAPTIVE_THRESH_GAUSSIAN_C, cv2.THRESH_BINARY, 15, 3)\n",
    "cv2.imshow(\"Thresholded Image 2\", adaptive_thresholded2)\n",
    "\n",
    "# Adaptive Inverse Thresholding with Adaptive Thresholding Mean Method:\n",
    "adaptive_thresholded3 = cv2.adaptiveThreshold(blurred_image, 255, cv2.ADAPTIVE_THRESH_MEAN_C, cv2.THRESH_BINARY_INV, 15, 3)\n",
    "cv2.imshow(\"Thresholded Image 3\", adaptive_thresholded3)\n",
    "\n",
    "# Adaptive Inverse Thresholding with Adaptive Thresholding Gaussian Method:\n",
    "adaptive_thresholded4 = cv2.adaptiveThreshold(blurred_image, 255, cv2.ADAPTIVE_THRESH_GAUSSIAN_C, cv2.THRESH_BINARY_INV, 15, 3)\n",
    "cv2.imshow(\"Thresholded Image 4\", adaptive_thresholded4)\n",
    "\n",
    "cv2.waitKey(0)\n",
    "cv2.destroyAllWindows()"
   ]
  },
  {
   "cell_type": "code",
   "execution_count": null,
   "metadata": {},
   "outputs": [],
   "source": []
  },
  {
   "cell_type": "code",
   "execution_count": null,
   "metadata": {},
   "outputs": [],
   "source": []
  }
 ],
 "metadata": {
  "kernelspec": {
   "display_name": "Python 3",
   "language": "python",
   "name": "python3"
  },
  "language_info": {
   "codemirror_mode": {
    "name": "ipython",
    "version": 3
   },
   "file_extension": ".py",
   "mimetype": "text/x-python",
   "name": "python",
   "nbconvert_exporter": "python",
   "pygments_lexer": "ipython3",
   "version": "3.5.2"
  }
 },
 "nbformat": 4,
 "nbformat_minor": 2
}
