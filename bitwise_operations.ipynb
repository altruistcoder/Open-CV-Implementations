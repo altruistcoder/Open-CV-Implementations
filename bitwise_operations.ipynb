{
 "cells": [
  {
   "cell_type": "markdown",
   "metadata": {},
   "source": [
    "# Bitwise Operations"
   ]
  },
  {
   "cell_type": "code",
   "execution_count": 4,
   "metadata": {},
   "outputs": [],
   "source": [
    "import numpy as np\n",
    "import cv2"
   ]
  },
  {
   "cell_type": "code",
   "execution_count": 9,
   "metadata": {},
   "outputs": [],
   "source": [
    "rectangle = np.zeros((300, 300), dtype=\"uint8\")\n",
    "cv2.rectangle(rectangle, (25, 25), (275, 275), (255, 255, 255), -1)\n",
    "cv2.imshow(\"Original Rectangle\", rectangle)\n",
    "\n",
    "circle = np.zeros((300, 300), dtype=\"uint8\")\n",
    "cv2.circle(circle, (150, 150), 150, (255, 255, 255), -1)\n",
    "cv2.imshow(\"Original Circle\", circle)\n",
    "\n",
    "cv2.waitKey(0)\n",
    "cv2.destroyAllWindows()"
   ]
  },
  {
   "cell_type": "code",
   "execution_count": 12,
   "metadata": {},
   "outputs": [],
   "source": [
    "bitwiseAnd = cv2.bitwise_and(rectangle, circle)\n",
    "cv2.imshow(\"AND\", bitwiseAnd)\n",
    "\n",
    "bitwiseOr = cv2.bitwise_or(rectangle, circle)\n",
    "cv2.imshow(\"OR\", bitwiseOr)\n",
    "\n",
    "bitwiseXor = cv2.bitwise_xor(rectangle, circle)\n",
    "cv2.imshow(\"XOR\", bitwiseXor)\n",
    "\n",
    "bitwiseNot1 = cv2.bitwise_not(rectangle)\n",
    "bitwiseNot2 = cv2.bitwise_not(circle)\n",
    "cv2.imshow(\"NOT-Rectangle\", bitwiseNot1)\n",
    "cv2.imshow(\"NOT-Circle\", bitwiseNot2)\n",
    "\n",
    "cv2.waitKey(0)\n",
    "cv2.destroyAllWindows()"
   ]
  }
 ],
 "metadata": {
  "kernelspec": {
   "display_name": "Python 3",
   "language": "python",
   "name": "python3"
  },
  "language_info": {
   "codemirror_mode": {
    "name": "ipython",
    "version": 3
   },
   "file_extension": ".py",
   "mimetype": "text/x-python",
   "name": "python",
   "nbconvert_exporter": "python",
   "pygments_lexer": "ipython3",
   "version": "3.5.2"
  }
 },
 "nbformat": 4,
 "nbformat_minor": 2
}
